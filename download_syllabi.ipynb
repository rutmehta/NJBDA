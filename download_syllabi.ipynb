{
 "cells": [
  {
   "cell_type": "code",
   "execution_count": 12,
   "metadata": {},
   "outputs": [],
   "source": [
    "import pandas as pd\n",
    "import requests\n",
    "import os\n",
    "from urllib.parse import urlparse\n",
    "from pathlib import Path\n",
    "import mimetypes"
   ]
  },
  {
   "cell_type": "code",
   "execution_count": 13,
   "metadata": {},
   "outputs": [],
   "source": [
    "# Create a directory for syllabi if it doesn't exist\n",
    "syllabi_dir = Path('syllabi')\n",
    "syllabi_dir.mkdir(exist_ok=True)"
   ]
  },
  {
   "cell_type": "code",
   "execution_count": 14,
   "metadata": {},
   "outputs": [
    {
     "name": "stdout",
     "output_type": "stream",
     "text": [
      "\n",
      "Dataframe Info:\n",
      "<class 'pandas.core.frame.DataFrame'>\n",
      "RangeIndex: 494 entries, 0 to 493\n",
      "Data columns (total 6 columns):\n",
      " #   Column            Non-Null Count  Dtype \n",
      "---  ------            --------------  ----- \n",
      " 0   INST.ID           494 non-null    object\n",
      " 1   COURSE ID         494 non-null    object\n",
      " 2   COURSE TITLE      494 non-null    object\n",
      " 3   EFFECTIVE SINCE   494 non-null    object\n",
      " 4   FILE TYPE         494 non-null    object\n",
      " 5   LINK TO SYLLABUS  494 non-null    object\n",
      "dtypes: object(6)\n",
      "memory usage: 23.3+ KB\n",
      "None\n",
      "\n",
      "First few rows of the data:\n",
      "  INST.ID COURSE ID                 COURSE TITLE EFFECTIVE SINCE FILE TYPE  \\\n",
      "0      AT   ACCT130         FINANCIAL ACCOUNTING         2001/09       PDF   \n",
      "1      AT   AERG101  INTRODUCTION TO ENGINEERING         2012/09   MS Word   \n",
      "2      AT   AERG200           ENGINEERING DESIGN         2012/09   MS Word   \n",
      "3      AT   AERG201                      STATICS         2012/09   MS Word   \n",
      "4      AT   AERG202              SOLID MECHANICS         2012/09   MS Word   \n",
      "\n",
      "                                    LINK TO SYLLABUS  \n",
      "0  https://njtransfer.org/artweb/artup/AT.ACCT130...  \n",
      "1  https://njtransfer.org/artweb/artup/AT.AERG101...  \n",
      "2  https://njtransfer.org/artweb/artup/AT.AERG200...  \n",
      "3  https://njtransfer.org/artweb/artup/AT.AERG201...  \n",
      "4  https://njtransfer.org/artweb/artup/AT.AERG202...  \n",
      "\n",
      "Basic statistics:\n",
      "       INST.ID COURSE ID          COURSE TITLE EFFECTIVE SINCE FILE TYPE  \\\n",
      "count      494       494                   494             494       494   \n",
      "unique       1       494                   460              39         3   \n",
      "top         AT   ACCT130  VISUAL COMMUNICATION         2001/09       PDF   \n",
      "freq       494         1                     5             156       219   \n",
      "\n",
      "                                         LINK TO SYLLABUS  \n",
      "count                                                 494  \n",
      "unique                                                494  \n",
      "top     https://njtransfer.org/artweb/artup/AT.ACCT130...  \n",
      "freq                                                    1  \n"
     ]
    }
   ],
   "source": [
    "# Read the CSV file\n",
    "df = pd.read_csv('AT_JN083SC6.csv')\n",
    "\n",
    "# Display basic information about the dataframe\n",
    "print(\"\\nDataframe Info:\")\n",
    "print(df.info())\n",
    "\n",
    "# Display the first few rows\n",
    "print(\"\\nFirst few rows of the data:\")\n",
    "print(df.head())\n",
    "\n",
    "# Display basic statistics\n",
    "print(\"\\nBasic statistics:\")\n",
    "print(df.describe())\n"
   ]
  },
  {
   "cell_type": "code",
   "execution_count": 15,
   "metadata": {},
   "outputs": [
    {
     "name": "stdout",
     "output_type": "stream",
     "text": [
      "Downloading syllabus for ACCT130...\n",
      "Successfully downloaded: ACCT130_syllabus.pdf\n",
      "Downloading syllabus for AERG101...\n",
      "Successfully downloaded: AERG101_syllabus.docx\n",
      "Downloading syllabus for AERG200...\n",
      "Successfully downloaded: AERG200_syllabus.docx\n",
      "Downloading syllabus for AERG201...\n",
      "Successfully downloaded: AERG201_syllabus.docx\n",
      "Downloading syllabus for AERG202...\n",
      "Successfully downloaded: AERG202_syllabus.docx\n",
      "\n",
      "Download complete! Files are saved in the 'syllabi' directory.\n"
     ]
    }
   ],
   "source": [
    "for index, row in df.head().iterrows():\n",
    "    url = row['LINK TO SYLLABUS']\n",
    "    course_id = row['COURSE ID'].replace(' ', '_')  # Clean course ID for filename\n",
    "    \n",
    "    print(f\"Downloading syllabus for {course_id}...\")\n",
    "    try:\n",
    "        # Make a HEAD request first to check content type\n",
    "        head_response = requests.head(url, allow_redirects=True)\n",
    "        content_type = head_response.headers.get('content-type', '')\n",
    "        \n",
    "        # Determine file extension based on content type\n",
    "        if 'pdf' in content_type.lower():\n",
    "            extension = '.pdf'\n",
    "        elif 'document' in content_type.lower() or 'docx' in content_type.lower():\n",
    "            extension = '.docx'\n",
    "        else:\n",
    "            # If content-type is not clear, try to get extension from URL\n",
    "            path = urlparse(url).path\n",
    "            extension = os.path.splitext(path)[1]\n",
    "            if not extension:\n",
    "                extension = '.pdf'  # Default to PDF if no extension found\n",
    "        \n",
    "        # Create filename with appropriate extension\n",
    "        filename = f\"{course_id}_syllabus{extension}\"\n",
    "        filepath = syllabi_dir / filename\n",
    "        \n",
    "        # Download the file\n",
    "        response = requests.get(url)\n",
    "        response.raise_for_status()  # Raise an exception for bad status codes\n",
    "        \n",
    "        # Save the file\n",
    "        with open(filepath, 'wb') as f:\n",
    "            f.write(response.content)\n",
    "        print(f\"Successfully downloaded: {filename}\")\n",
    "        \n",
    "    except requests.exceptions.RequestException as e:\n",
    "        print(f\"Error downloading {url}: {str(e)}\")\n",
    "    except Exception as e:\n",
    "        print(f\"Unexpected error with {url}: {str(e)}\")\n",
    "\n",
    "print(\"\\nDownload complete! Files are saved in the 'syllabi' directory.\")"
   ]
  }
 ],
 "metadata": {
  "kernelspec": {
   "display_name": "Python 3",
   "language": "python",
   "name": "python3"
  },
  "language_info": {
   "codemirror_mode": {
    "name": "ipython",
    "version": 3
   },
   "file_extension": ".py",
   "mimetype": "text/x-python",
   "name": "python",
   "nbconvert_exporter": "python",
   "pygments_lexer": "ipython3",
   "version": "3.12.2"
  }
 },
 "nbformat": 4,
 "nbformat_minor": 2
}
